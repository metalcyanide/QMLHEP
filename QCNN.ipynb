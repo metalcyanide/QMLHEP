{
 "cells": [
  {
   "cell_type": "markdown",
   "metadata": {
    "id": "vqW-UZWb2ykS"
   },
   "source": [
    "## TASK 3: Quantum Convolutional Neural Network (QCNN)\n",
    "\n",
    "Dataset: electron-photon.npz\n",
    "\n",
    "Task is to classify the images as 0 if photon and 1 if electron and to show the training loss decreases over time and any other model tuning.\n",
    "\n",
    "- This notebook consists of working implementation of QCNN for the given dataset and at the end hyper parameter tuning is shown\n",
    "- Used code snippets from tutorials of tensorflow Quantum\n",
    "- Skip the following block, if tensorflow and tensorflow quantum are installed already.\n"
   ]
  },
  {
   "cell_type": "code",
   "execution_count": null,
   "metadata": {
    "colab": {
     "base_uri": "https://localhost:8080/"
    },
    "id": "XK6BIu5XU-Qu",
    "outputId": "9a032cb9-a5b8-46a1-f7cf-f9251d2b033f"
   },
   "outputs": [],
   "source": [
    "!pip install tensorflow==2.3.1\n",
    "!pip install tensorflow_quantum"
   ]
  },
  {
   "cell_type": "code",
   "execution_count": null,
   "metadata": {
    "id": "7-xLvb1hVF0v"
   },
   "outputs": [],
   "source": [
    "\n",
    "import tensorflow as tf\n",
    "import tensorflow_quantum as tfq\n",
    "import cirq\n",
    "import sympy\n",
    "import numpy as np\n",
    "\n",
    "# visualization tools\n",
    "%matplotlib inline\n",
    "import matplotlib.pyplot as plt\n",
    "from cirq.contrib.svg import SVGCircuit"
   ]
  },
  {
   "cell_type": "markdown",
   "metadata": {
    "id": "lM5PW8ui4Hdm"
   },
   "source": [
    "### Loading Data\n",
    "\n",
    "Get training data, labels and test data and corresponding labels\n",
    "\n",
    "The .npz file consists of zero-dimensional array, accessing which requires expanding its dimensions along axis=0"
   ]
  },
  {
   "cell_type": "code",
   "execution_count": null,
   "metadata": {
    "id": "J69zmj5oaeuI"
   },
   "outputs": [],
   "source": [
    "data = np.load(\"/content/electron-photon.npz\", allow_pickle=True)\n",
    "total_data = dict(zip((\"x_train\",\"y_train\",\"x_test\", \"y_test\"), (data[k] for k in data)))\n",
    "total_data = np.expand_dims(total_data,axis=0)\n",
    "\n",
    "x_test = total_data[0]['x_test']\n",
    "y_test = total_data[0]['y_test']\n",
    "x_train = total_data[0]['x_train']\n",
    "y_train = total_data[0]['y_train']\n",
    " "
   ]
  },
  {
   "cell_type": "markdown",
   "metadata": {
    "id": "90-cjALt4mGb"
   },
   "source": [
    "Encoding of classical data into qubits"
   ]
  },
  {
   "cell_type": "code",
   "execution_count": null,
   "metadata": {
    "id": "DJ0yIGKayIeI"
   },
   "outputs": [],
   "source": [
    "def generate_data(qubits, training_data, train_labels, test_data, test_labels):\n",
    "    \"\"\"Generate training and testing data.\"\"\"\n",
    "    train_excitations = []\n",
    "    test_excitations = []\n",
    "    labels = []\n",
    "    for data in training_data:\n",
    "        bit = np.random.randint(0,len(qubits))\n",
    "        rng = np.average(data)*(np.pi)\n",
    "        train_excitations.append(cirq.Circuit(cirq.rx(rng)(qubits[bit])))\n",
    "    for data in test_data:\n",
    "        bit = np.random.randint(0,len(qubits))\n",
    "        rng = np.average(data)*(np.pi)\n",
    "        test_excitations.append(cirq.Circuit(cirq.rx(rng)(qubits[bit])))\n",
    "\n",
    "    return tfq.convert_to_tensor(train_excitations), np.array(train_labels), \\\n",
    "        tfq.convert_to_tensor(test_excitations), np.array(test_labels)\n"
   ]
  },
  {
   "cell_type": "markdown",
   "metadata": {
    "id": "WKVm9FaP48f7"
   },
   "source": [
    " Preparing Cluster state"
   ]
  },
  {
   "cell_type": "code",
   "execution_count": null,
   "metadata": {
    "id": "bWYGil1lzBa4"
   },
   "outputs": [],
   "source": [
    "def cluster_state_circuit(bits):\n",
    "    \"\"\"Return a cluster state on the qubits in `bits`.\"\"\"\n",
    "    circuit = cirq.Circuit()\n",
    "    circuit.append(cirq.H.on_each(bits))\n",
    "    for this_bit, next_bit in zip(bits, bits[1:] + [bits[0]]):\n",
    "        circuit.append(cirq.CZ(this_bit, next_bit))\n",
    "    return circuit"
   ]
  },
  {
   "cell_type": "markdown",
   "metadata": {
    "id": "48BEdywh5FHR"
   },
   "source": [
    "Helper functions for creating single and two qubit unitaries and pooling operation."
   ]
  },
  {
   "cell_type": "code",
   "execution_count": null,
   "metadata": {
    "id": "YQ-m8dAE1Voo"
   },
   "outputs": [],
   "source": [
    "def one_qubit_unitary(bit, symbols):\n",
    "    \"\"\"Make a Cirq circuit enacting a rotation of the bloch sphere about the X,\n",
    "    Y and Z axis, that depends on the values in `symbols`.\n",
    "    \"\"\"\n",
    "    return cirq.Circuit(\n",
    "        cirq.X(bit)**symbols[0],\n",
    "        cirq.Y(bit)**symbols[1],\n",
    "        cirq.Z(bit)**symbols[2])\n",
    "\n",
    "\n",
    "def two_qubit_unitary(bits, symbols):\n",
    "    \"\"\"Make a Cirq circuit that creates an arbitrary two qubit unitary.\"\"\"\n",
    "    circuit = cirq.Circuit()\n",
    "    circuit += one_qubit_unitary(bits[0], symbols[0:3])\n",
    "    circuit += one_qubit_unitary(bits[1], symbols[3:6])\n",
    "    circuit += [cirq.ZZ(*bits)**symbols[6]]\n",
    "    circuit += [cirq.YY(*bits)**symbols[7]]\n",
    "    circuit += [cirq.XX(*bits)**symbols[8]]\n",
    "    circuit += one_qubit_unitary(bits[0], symbols[9:12])\n",
    "    circuit += one_qubit_unitary(bits[1], symbols[12:])\n",
    "    return circuit\n",
    "\n",
    "\n",
    "def two_qubit_pool(source_qubit, sink_qubit, symbols):\n",
    "    \"\"\"Make a Cirq circuit to do a parameterized 'pooling' operation, which\n",
    "    attempts to reduce entanglement down from two qubits to just one.\"\"\"\n",
    "    pool_circuit = cirq.Circuit()\n",
    "    sink_basis_selector = one_qubit_unitary(sink_qubit, symbols[0:3])\n",
    "    source_basis_selector = one_qubit_unitary(source_qubit, symbols[3:6])\n",
    "    pool_circuit.append(sink_basis_selector)\n",
    "    pool_circuit.append(source_basis_selector)\n",
    "    pool_circuit.append(cirq.CNOT(control=source_qubit, target=sink_qubit))\n",
    "    pool_circuit.append(sink_basis_selector**-1)\n",
    "    return pool_circuit\n"
   ]
  },
  {
   "cell_type": "code",
   "execution_count": null,
   "metadata": {
    "id": "LNJ9ahpa1psf"
   },
   "outputs": [],
   "source": [
    "def quantum_conv_circuit(bits, symbols):\n",
    "    \"\"\"Quantum Convolution Layer following the above diagram.\n",
    "    Return a Cirq circuit with the cascade of `two_qubit_unitary` applied\n",
    "    to all pairs of qubits in `bits` as in the diagram above.\n",
    "    \"\"\"\n",
    "    circuit = cirq.Circuit()\n",
    "    for first, second in zip(bits[0::2], bits[1::2]):\n",
    "        circuit += two_qubit_unitary([first, second], symbols)\n",
    "    for first, second in zip(bits[1::2], bits[2::2] + [bits[0]]):\n",
    "        circuit += two_qubit_unitary([first, second], symbols)\n",
    "    return circuit"
   ]
  },
  {
   "cell_type": "code",
   "execution_count": null,
   "metadata": {
    "id": "MzppnV9t1uBZ"
   },
   "outputs": [],
   "source": [
    "def quantum_pool_circuit(source_bits, sink_bits, symbols):\n",
    "    \"\"\"A layer that specifies a quantum pooling operation.\n",
    "    A Quantum pool tries to learn to pool the relevant information from two\n",
    "    qubits onto 1.\n",
    "    \"\"\"\n",
    "    circuit = cirq.Circuit()\n",
    "    for source, sink in zip(source_bits, sink_bits):\n",
    "        circuit += two_qubit_pool(source, sink, symbols)\n",
    "    return circuit"
   ]
  },
  {
   "cell_type": "markdown",
   "metadata": {
    "id": "5hMB7Cyn5P76"
   },
   "source": [
    "The core architecture of QCNN"
   ]
  },
  {
   "cell_type": "code",
   "execution_count": null,
   "metadata": {
    "id": "RTAGGjCw1ymk"
   },
   "outputs": [],
   "source": [
    "def create_model_circuit(qubits):\n",
    "    \"\"\"Create sequence of alternating convolution and pooling operators \n",
    "    which gradually shrink over time.\"\"\"\n",
    "    model_circuit = cirq.Circuit()\n",
    "    symbols = sympy.symbols('qconv0:63')\n",
    "\n",
    "    model_circuit += quantum_conv_circuit(qubits, symbols[0:15])\n",
    "    model_circuit += quantum_pool_circuit(qubits[:4], qubits[4:],\n",
    "                                          symbols[15:21])\n",
    "    model_circuit += quantum_conv_circuit(qubits, symbols[0:15])\n",
    "    model_circuit += quantum_conv_circuit(qubits[4:], symbols[21:36])\n",
    "    model_circuit += quantum_pool_circuit(qubits[4:6], qubits[6:],\n",
    "                                          symbols[36:42])\n",
    "    model_circuit += quantum_conv_circuit(qubits, symbols[0:15])\n",
    "    model_circuit += quantum_conv_circuit(qubits[6:], symbols[42:57])\n",
    "    \n",
    "    model_circuit += quantum_pool_circuit([qubits[6]], [qubits[7]],\n",
    "                                          symbols[57:63])\n",
    "    return model_circuit\n",
    "\n",
    "\n"
   ]
  },
  {
   "cell_type": "markdown",
   "metadata": {
    "id": "40EkkBp55fG9"
   },
   "source": [
    "Adding Controller to change Parameterized Quantum Circuit based on input taken through commands_input."
   ]
  },
  {
   "cell_type": "code",
   "execution_count": null,
   "metadata": {
    "id": "Eo7Fx7tB5dpQ"
   },
   "outputs": [],
   "source": [
    "controller = tf.keras.Sequential([\n",
    "    tf.keras.layers.Flatten(),\n",
    "    tf.keras.layers.Dense(10, activation='relu'),\n",
    "    tf.keras.layers.Dropout(0.5),\n",
    "    tf.keras.layers.Dense(8, activation=tf.nn.softmax),\n",
    "])\n",
    "\n",
    "\n",
    "commands_input = tf.keras.Input(shape=(32,32),\n",
    "                                dtype=tf.dtypes.float32,\n",
    "                                name='commands_input')\n"
   ]
  },
  {
   "cell_type": "markdown",
   "metadata": {
    "id": "DEqNTpW-5xKr"
   },
   "source": [
    "Following code plots the abstract view of the architecture"
   ]
  },
  {
   "cell_type": "code",
   "execution_count": null,
   "metadata": {
    "id": "euLrxh9H5yU5"
   },
   "outputs": [],
   "source": [
    "cluster_state_bits = cirq.GridQubit.rect(1, 8)\n",
    "readout_operators = cirq.Z(cluster_state_bits[-1])\n",
    "\n",
    "excitation_input = tf.keras.Input(shape=(), dtype=tf.dtypes.string)\n",
    "cluster_state = tfq.layers.AddCircuit()(\n",
    "    excitation_input, prepend=cluster_state_circuit(cluster_state_bits))\n",
    "\n",
    "quantum_model = tfq.layers.PQC(create_model_circuit(cluster_state_bits),\n",
    "                               readout_operators)(cluster_state)\n",
    "\n",
    "qcnn_model = tf.keras.Model(inputs=[excitation_input, commands_input], outputs=[quantum_model])\n",
    "\n",
    "tf.keras.utils.plot_model(qcnn_model,\n",
    "                          show_shapes=True,\n",
    "                          show_layer_names=False,\n",
    "                          dpi=70)"
   ]
  },
  {
   "cell_type": "markdown",
   "metadata": {
    "id": "qzXhvlq659A5"
   },
   "source": [
    "Adding tensorboard for monitoring"
   ]
  },
  {
   "cell_type": "code",
   "execution_count": null,
   "metadata": {
    "colab": {
     "base_uri": "https://localhost:8080/"
    },
    "id": "2C9vYFTjaxfJ",
    "outputId": "246d19bf-3e47-4c82-c52a-fc16ce3df70d"
   },
   "outputs": [],
   "source": [
    "%load_ext tensorboard\n",
    "import datetime\n",
    "\n",
    "log_dir = \"logs_tb/fit/\" + datetime.datetime.now().strftime(\"%Y%m%d-%H%M%S\")\n",
    "tb_callback = tf.keras.callbacks.TensorBoard(log_dir=log_dir, histogram_freq=1)\n",
    "\n"
   ]
  },
  {
   "cell_type": "markdown",
   "metadata": {
    "id": "OPCj5uNo6CtV"
   },
   "source": [
    "Created custom accuracy metric and evaluating the model"
   ]
  },
  {
   "cell_type": "code",
   "execution_count": null,
   "metadata": {
    "colab": {
     "base_uri": "https://localhost:8080/"
    },
    "id": "kWfOhltN11Hr",
    "outputId": "2ed7e671-0e8d-4276-c8b6-5cb541e48393"
   },
   "outputs": [],
   "source": [
    "# Generate some training data.\n",
    "train_excitations, train_labels, test_excitations, test_labels = generate_data(\n",
    "    cluster_state_bits, x_train,y_train,x_test,y_test)\n",
    "\n",
    "# Custom accuracy metric.\n",
    "@tf.function\n",
    "def custom_accuracy(y_true, y_pred):  \n",
    "    y_true = tf.squeeze(y_true)\n",
    "    y_pred = tf.map_fn(lambda x: 1.0 if x >= 0.4 else 0.0, y_pred)\n",
    "    return tf.keras.backend.mean(tf.keras.backend.equal(y_true, y_pred))\n",
    "\n",
    "\n",
    "qcnn_model.compile(optimizer=tf.keras.optimizers.Adam(learning_rate=0.02),\n",
    "                   loss=tf.losses.mse,\n",
    "                   metrics=[custom_accuracy])\n",
    "\n",
    "split_ind = int(0.8*len(x_train))\n",
    "history = qcnn_model.fit(x=[train_excitations[:split_ind], x_train[:split_ind]],\n",
    "                         y=y_train[:split_ind],\n",
    "                         batch_size=16,\n",
    "                         epochs=25,\n",
    "                         verbose=1,\n",
    "                         validation_data=([train_excitations[split_ind:], x_train[split_ind:]], y_train[split_ind:]),\n",
    "                         callbacks=tb_callback\n",
    "                         )\n",
    "\n",
    "res = qcnn_model.evaluate(x=[test_excitations,x_test], y=y_test)\n",
    "\n",
    "print(f\"loss: {res[0]} accuracy= {res[1]}\")\n",
    "\n"
   ]
  },
  {
   "cell_type": "markdown",
   "metadata": {
    "id": "PIKQew_36Mvn"
   },
   "source": [
    "Plotting training and validation loss vs Epochs"
   ]
  },
  {
   "cell_type": "code",
   "execution_count": null,
   "metadata": {
    "colab": {
     "base_uri": "https://localhost:8080/",
     "height": 295
    },
    "id": "dUuZPV_814ag",
    "outputId": "2234349b-4317-404e-efda-b0861235bfa1"
   },
   "outputs": [],
   "source": [
    "plt.plot(history.history['loss'], label='Training')\n",
    "plt.plot(history.history['val_loss'], label='Validation')\n",
    "plt.title('Training a Quantum CNN on electron photon data')\n",
    "plt.xlabel('Epochs')\n",
    "plt.ylabel('Loss')\n",
    "plt.legend()\n",
    "plt.show()\n"
   ]
  },
  {
   "cell_type": "markdown",
   "metadata": {
    "id": "7dXDpO1C6SGx"
   },
   "source": [
    "Utilizing hyper-parameter tuning to run experiments and tune the model. You can observe the corresponding results in log directory located at logs_tb/hparam_tuning "
   ]
  },
  {
   "cell_type": "code",
   "execution_count": null,
   "metadata": {
    "id": "m4IglFAJ2KBA"
   },
   "outputs": [],
   "source": [
    "from tensorboard.plugins.hparams import api as hp\n",
    "\n",
    "HP_NUM_UNITS = hp.HParam('num_units', hp.Discrete([10, 20]))\n",
    "HP_DROPOUT = hp.HParam('dropout', hp.RealInterval(0.1, 0.2))\n",
    "HP_OPTIMIZER = hp.HParam('optimizer', hp.Discrete(['adam', 'sgd']))\n",
    "\n",
    "METRIC_ACCURACY = 'accuracy'\n",
    "\n",
    "with tf.summary.create_file_writer('logs_tb/hparam_tuning').as_default():\n",
    "      hp.hparams_config(\n",
    "        hparams=[HP_NUM_UNITS, HP_DROPOUT, HP_OPTIMIZER],\n",
    "        metrics=[hp.Metric(METRIC_ACCURACY, display_name='Accuracy')],\n",
    "      )\n"
   ]
  },
  {
   "cell_type": "code",
   "execution_count": null,
   "metadata": {
    "id": "ZlPWG8oSdFNU"
   },
   "outputs": [],
   "source": [
    "def train_test_model(hparams, log_dir):\n",
    "    controller = tf.keras.Sequential([\n",
    "      tf.keras.layers.Flatten(),\n",
    "      tf.keras.layers.Dense(hparams[HP_NUM_UNITS], activation='relu'),\n",
    "      tf.keras.layers.Dropout(hparams[HP_DROPOUT]),\n",
    "      tf.keras.layers.Dense(8, activation=tf.nn.softmax),\n",
    "  ])\n",
    "\n",
    "    commands_input = tf.keras.Input(shape=(32,32),\n",
    "                                  dtype=tf.dtypes.float32,\n",
    "                                  name='commands_input')\n",
    "    cluster_state_bits = cirq.GridQubit.rect(1, 8)\n",
    "    readout_operators = cirq.Z(cluster_state_bits[-1])\n",
    "\n",
    "    excitation_input = tf.keras.Input(shape=(), dtype=tf.dtypes.string)\n",
    "    cluster_state = tfq.layers.AddCircuit()(\n",
    "      excitation_input, prepend=cluster_state_circuit(cluster_state_bits))\n",
    "\n",
    "    quantum_model = tfq.layers.PQC(create_model_circuit(cluster_state_bits),\n",
    "                                readout_operators)(cluster_state)\n",
    "\n",
    "\n",
    "\n",
    "    qcnn_model = tf.keras.Model(inputs=[excitation_input, commands_input], outputs=[quantum_model])\n",
    "    qcnn_model.compile(optimizer=hparams[HP_OPTIMIZER],\n",
    "                    loss=tf.losses.mse,\n",
    "                    metrics=[custom_accuracy])\n",
    "\n",
    "    split_ind = int(0.8*len(x_train))\n",
    "    history = qcnn_model.fit(x=[train_excitations[:split_ind], x_train[:split_ind]],\n",
    "                          y=y_train[:split_ind],\n",
    "                          batch_size=16,\n",
    "                          epochs=25,\n",
    "                          verbose=1,\n",
    "                          validation_data=([train_excitations[split_ind:], x_train[split_ind:]], y_train[split_ind:]),\n",
    "                           callbacks=[tb_callback,\n",
    "                                      hp.KerasCallback(log_dir, hparams),] # log hparams\n",
    "\n",
    "                          )\n",
    "\n",
    "    [loss, accuracy] = qcnn_model.evaluate(x=[test_excitations,x_test], y=y_test)\n",
    "    return accuracy"
   ]
  },
  {
   "cell_type": "code",
   "execution_count": null,
   "metadata": {
    "colab": {
     "base_uri": "https://localhost:8080/"
    },
    "id": "EoqMD8RvexCH",
    "outputId": "7f3c1b10-45c9-408a-ade6-1d2e2cf2a91a"
   },
   "outputs": [],
   "source": [
    "session_num = 0\n",
    "\n",
    "for num_units in HP_NUM_UNITS.domain.values:\n",
    "    for dropout_rate in (HP_DROPOUT.domain.min_value, HP_DROPOUT.domain.max_value):\n",
    "        for optimizer in HP_OPTIMIZER.domain.values:\n",
    "            hparams = {\n",
    "              HP_NUM_UNITS: num_units,\n",
    "              HP_DROPOUT: dropout_rate,\n",
    "              HP_OPTIMIZER: optimizer,\n",
    "          }\n",
    "\n",
    "        print(f\"{hparams}\")\n",
    "        accuracy = train_test_model(hparams,'logs_tb/hparam_tuning/run'+str(session_num))\n",
    "        session_num += 1\n"
   ]
  }
 ],
 "metadata": {
  "colab": {
   "collapsed_sections": [],
   "name": "QCNN.ipynb",
   "provenance": []
  },
  "kernelspec": {
   "display_name": "Python 3",
   "language": "python",
   "name": "python3"
  },
  "language_info": {
   "codemirror_mode": {
    "name": "ipython",
    "version": 3
   },
   "file_extension": ".py",
   "mimetype": "text/x-python",
   "name": "python",
   "nbconvert_exporter": "python",
   "pygments_lexer": "ipython3",
   "version": "3.8.5"
  }
 },
 "nbformat": 4,
 "nbformat_minor": 1
}
