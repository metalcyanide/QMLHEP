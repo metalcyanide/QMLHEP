{
 "cells": [
  {
   "cell_type": "code",
   "execution_count": null,
   "metadata": {},
   "outputs": [],
   "source": [
    "from cirq import Simulator\n",
    "from cirq import Circuit, GridQubit, NamedQubit\n",
    "from cirq.ops import CNOT, H, SWAP, rx, measure\n",
    "from cirq import rx\n",
    "from cirq.contrib.svg import SVGCircuit\n",
    "from numpy import pi\n",
    "import numpy as np\n",
    "\n",
    "import matplotlib.pyplot as plt"
   ]
  },
  {
   "cell_type": "code",
   "execution_count": null,
   "metadata": {},
   "outputs": [],
   "source": [
    "NUM_QUBITS = 5\n",
    "\n",
    "qubits = [GridQubit(qubit,0) \n",
    "          for qubit in range(NUM_QUBITS)]\n",
    "\n",
    "circuit = Circuit()\n",
    "\n",
    "circuit.append([H(qubits[qubit]) \n",
    "                for qubit in range(NUM_QUBITS)])\n",
    "\n",
    "circuit.append([CNOT(qubits[qubit], qubits[qubit+1]) \n",
    "                for qubit in range(NUM_QUBITS-1)])\n",
    "\n",
    "circuit.append(SWAP(qubits[0], qubits[-1]))\n",
    "\n",
    "circuit.append(rx(pi/2).on(qubits[0]))"
   ]
  },
  {
   "cell_type": "code",
   "execution_count": null,
   "metadata": {},
   "outputs": [],
   "source": [
    "SVGCircuit(circuit)"
   ]
  },
  {
   "cell_type": "code",
   "execution_count": null,
   "metadata": {},
   "outputs": [],
   "source": [
    "rxqubit = NamedQubit(\"rxqubit\")\n",
    "rxcircuit = Circuit()\n",
    "\n",
    "DISCRETE = 50\n",
    "rxcircuit.append([rx(pi/DISCRETE).on(rxqubit) for _ in range(DISCRETE)])"
   ]
  },
  {
   "cell_type": "code",
   "execution_count": null,
   "metadata": {},
   "outputs": [],
   "source": [
    "rxcircuit.append(measure(rxqubit,key=\"measure\"))\n",
    "print(rxcircuit)\n",
    "\n",
    "sim = Simulator()\n",
    "\n",
    "res = sim.run(rxcircuit, repetitions=1000)\n",
    "print(res)\n",
    "print(res.histogram(key=\"measure\"))"
   ]
  },
  {
   "cell_type": "code",
   "execution_count": null,
   "metadata": {},
   "outputs": [],
   "source": [
    "probs = []\n",
    "\n",
    "# Step through the simulation results.\n",
    "for step in sim.simulate_moment_steps(rxcircuit):\n",
    "    prob = np.abs(step.state_vector()) ** 2\n",
    "    probs.append(prob[0])\n",
    "\n",
    "# Plot the probability of the ground state at each simulation step.\n",
    "plt.plot(probs, 'o')\n",
    "plt.xlabel(\"Step\")\n",
    "plt.ylabel(\"Probability of ground state\");"
   ]
  },
  {
   "cell_type": "code",
   "execution_count": null,
   "metadata": {},
   "outputs": [],
   "source": [
    "results = sim.simulate(rxcircuit)\n",
    "print(results)"
   ]
  },
  {
   "cell_type": "code",
   "execution_count": null,
   "metadata": {},
   "outputs": [],
   "source": [
    "res = sim.run(rxcircuit, repetitions=1000)\n",
    "print(res)\n",
    "print(res.histogram(key=\"measure\"))"
   ]
  },
  {
   "cell_type": "code",
   "execution_count": null,
   "metadata": {},
   "outputs": [],
   "source": [
    "import numpy as np\n",
    "import matplotlib.pyplot as plt\n",
    "\"\"\"Plot the probability of measuring a qubit in the ground state.\"\"\"\n",
    "# Get a qubit.\n",
    "a = NamedQubit('a')\n",
    "\n",
    "# Get a circuit of a bunch of X rotations.\n",
    "circuit = Circuit([rx(rads=np.pi / 200.0)(a) for theta in range(200)])\n",
    "print(circuit)\n",
    "# List to store probabilities of the ground state.\n",
    "probs = []\n",
    "\n",
    "# Step through the simulation results.\n",
    "for step in sim.simulate_moment_steps(circuit):\n",
    "    prob = np.abs(step.state_vector()) ** 2\n",
    "    probs.append(prob[0])\n",
    "\n",
    "# Plot the probability of the ground state at each simulation step.\n",
    "plt.style.use('seaborn-whitegrid')\n",
    "plt.plot(probs, 'o')\n",
    "plt.xlabel(\"Step\")\n",
    "plt.ylabel(\"Probability of ground state\");\n"
   ]
  }
 ],
 "metadata": {
  "kernelspec": {
   "display_name": "Python 3",
   "language": "python",
   "name": "python3"
  },
  "language_info": {
   "codemirror_mode": {
    "name": "ipython",
    "version": 3
   },
   "file_extension": ".py",
   "mimetype": "text/x-python",
   "name": "python",
   "nbconvert_exporter": "python",
   "pygments_lexer": "ipython3",
   "version": "3.8.5"
  }
 },
 "nbformat": 4,
 "nbformat_minor": 4
}
